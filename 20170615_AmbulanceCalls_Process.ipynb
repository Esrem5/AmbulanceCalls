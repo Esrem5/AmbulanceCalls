{
 "cells": [
  {
   "cell_type": "code",
   "execution_count": null,
   "metadata": {
    "collapsed": true
   },
   "outputs": [],
   "source": [
    "import re\n",
    "import pandas as pd\n",
    "import numpy as np\n",
    "from datetime import datetime\n",
    "\n",
    "#pd.set_option('display.max_colwidth', -1)\n",
    "pd.set_option('display.max_columns', None)\n",
    "pd.set_option('display.max_rows', None)\n",
    "\n",
    "import matplotlib.pyplot as plt\n",
    "%matplotlib inline\n",
    "plt.style.use('seaborn-whitegrid')\n",
    "\n",
    "import requests\n",
    "\n",
    "import geocoder\n",
    "import gmplot"
   ]
  },
  {
   "cell_type": "code",
   "execution_count": null,
   "metadata": {
    "collapsed": true
   },
   "outputs": [],
   "source": [
    "from io import BytesIO\n",
    "from zipfile import ZipFile\n",
    "import requests\n",
    "\n",
    "def get_zip(file_url):\n",
    "    \"\"\"Unpack zip file from web and return file objects\"\"\"\n",
    "    url = requests.get(file_url)\n",
    "    file_objects = ZipFile(BytesIO(url.content))\n",
    "    return file_objects\n",
    "\n",
    "# For example:\n",
    "# zp = get_zip('http://geo-koop.rug.nl/agol/rug/706fd44e86c34b2c9a06ddd477e22b9a/0.zip')\n",
    "# zp.namelist() to list file names\n",
    "# If you want to e.g. open a csv file from the zip:\n",
    "# pd.read_csv(zp.open(file_name))"
   ]
  },
  {
   "cell_type": "code",
   "execution_count": null,
   "metadata": {
    "collapsed": true
   },
   "outputs": [],
   "source": [
    "# load csv file with all ambulance calls from 2013 - 2017\n",
    "all_calls_df = pd.read_csv('20170523_ambulancecalls_2013-2017.csv')"
   ]
  },
  {
   "cell_type": "code",
   "execution_count": null,
   "metadata": {
    "collapsed": true
   },
   "outputs": [],
   "source": [
    "# cleaning\n",
    "all_calls_df.drop_duplicates(inplace=True)\n",
    "\n",
    "# remove rows with empty addresses\n",
    "all_calls_df.dropna(inplace=True)\n",
    "\n",
    "# combine date and time column\n",
    "all_calls_df['date_time'] = pd.to_datetime(all_calls_df['date'] + ' ' + all_calls_df['time'], format='%d-%m-%Y %H:%M:%S')\n",
    "all_calls_df['date'] = pd.to_datetime(all_calls_df['date'], format='%d-%m-%Y')\n",
    "all_calls_df['time'] = pd.to_datetime(all_calls_df['time'], format='%H:%M:%S')\n",
    "all_calls_df.set_index('date_time', inplace=True)\n",
    "\n",
    "# add urgency column\n",
    "all_calls_df['urgency'] = all_calls_df['descr'].apply(lambda x: str(x).split(':')[0])\n",
    "\n",
    "# only A1,A2,B1,B2,B calls\n",
    "urgency_types  = [' Ambulance met hoge spoed',' Ambulance met spoed',\n",
    "                  ' Ambulance besteld vervoer B1',' Ambulance besteld vervoer B2', \n",
    "                  ' Ambulance besteld vervoer']\n",
    "select_calls_df = all_calls_df[all_calls_df['urgency'].isin(urgency_types)]\n",
    "\n",
    "select_calls_df.to_csv('20170616_ambulancecalls_2013-2017_cleaned.csv', index=True)\n",
    "select_calls_df.to_pickle('20170616_ambulancecalls_2013-2017_cleaned.p')\n",
    "\n",
    "select_calls_df.head()"
   ]
  },
  {
   "cell_type": "code",
   "execution_count": null,
   "metadata": {
    "collapsed": true
   },
   "outputs": [],
   "source": [
    "del all_calls_df"
   ]
  },
  {
   "cell_type": "code",
   "execution_count": null,
   "metadata": {
    "collapsed": true
   },
   "outputs": [],
   "source": [
    "fig = plt.figure(figsize=(5,5))\n",
    "\n",
    "for urge in urgency_types:\n",
    "    df = select_calls_df[select_calls_df['urgency']==urge]['urgency']\n",
    "    ax = fig.add_subplot(1, 1, 1)\n",
    "    ax.set_ylim(0,9000)\n",
    "    df.resample('M').count().plot(ax=ax, label=urge)\n",
    "ax.legend()\n",
    "ax.set_xlabel('Date')\n",
    "ax.set_ylabel('Number of calls per month')\n",
    "ax.set_title('Number of ambulance calls')\n",
    "\n",
    "plt.tight_layout()\n",
    "#plt.savefig('NumberOfCalls_Months.png', dpi=300)"
   ]
  },
  {
   "cell_type": "code",
   "execution_count": null,
   "metadata": {
    "collapsed": true
   },
   "outputs": [],
   "source": [
    "fig = plt.figure(figsize=(5,5))\n",
    "\n",
    "for urge in urgency_types:\n",
    "    df = select_calls_df[select_calls_df['urgency']==urge]['urgency']\n",
    "    ax = fig.add_subplot(1, 1, 1)\n",
    "    ax.set_ylim(0,2250)\n",
    "    df.resample('W').count().plot(ax=ax, label=urge)\n",
    "ax.legend()\n",
    "ax.set_xlabel('Date')\n",
    "ax.set_ylabel('Number of calls per week')\n",
    "ax.set_title('Number of ambulance calls')\n",
    "\n",
    "plt.tight_layout()\n",
    "plt.savefig('NumberOfCalls_Weeks.png', dpi=300)"
   ]
  },
  {
   "cell_type": "markdown",
   "metadata": {},
   "source": [
    "Ambulance calls with high urgency have stayed stable over the last 3 years. "
   ]
  },
  {
   "cell_type": "code",
   "execution_count": null,
   "metadata": {
    "collapsed": true
   },
   "outputs": [],
   "source": [
    "fig = plt.figure(figsize=(12,5))\n",
    "\n",
    "for urge in urgency_types:\n",
    "    df = select_calls_df[select_calls_df['urgency']==urge]['urgency']\n",
    "    ax = fig.add_subplot(1, 1, 1)\n",
    "    ax.set_ylim(0,500)\n",
    "    df.resample('D').count().plot(ax=ax, label=urge)\n",
    "ax.legend()\n",
    "ax.set_xlabel('Date')\n",
    "ax.set_ylabel('Number of calls per day')\n",
    "ax.set_title('Number of ambulance calls')\n",
    "\n",
    "plt.tight_layout()\n",
    "#plt.savefig('NumberOfCalls_Day.png', dpi=300)"
   ]
  },
  {
   "cell_type": "markdown",
   "metadata": {},
   "source": [
    "### Time series (TS) analysis"
   ]
  },
  {
   "cell_type": "markdown",
   "metadata": {},
   "source": [
    "https://www.analyticsvidhya.com/blog/2016/02/time-series-forecasting-codes-python/  \n",
    "\n",
    "There's maybe a slight increase in very urgent ambulance calls over time (compare 2013 with 2016)  \n",
    "Assumptions of TS modeling: mean, variance and covariance should not be a function of time ->   \n",
    "We can check stationarity using Dickey-Fuller test (null-hypothesis = timeseries NOT stationary):  "
   ]
  },
  {
   "cell_type": "code",
   "execution_count": null,
   "metadata": {
    "collapsed": true
   },
   "outputs": [],
   "source": [
    "from statsmodels.tsa.stattools import adfuller\n",
    "\n",
    "def test_stationarity(timeseries, windowsize):\n",
    "    \n",
    "    #Determing rolling statistics\n",
    "    #Windowsize = number of observations used\n",
    "    rolmean = pd.Series.rolling(timeseries, window=windowsize).mean()\n",
    "    rolstd = pd.Series.rolling(timeseries, window=windowsize).std()\n",
    "\n",
    "    #Plot rolling statistics:\n",
    "    plt.figure(figsize=(15,5))\n",
    "    orig = plt.plot(timeseries, color='steelblue',label='Original')\n",
    "    mean = plt.plot(rolmean, color='firebrick', label='Rolling Mean')\n",
    "    std = plt.plot(rolstd, color='dimgrey', label = 'Rolling Std')\n",
    "    plt.legend(loc='best')\n",
    "    plt.title('Rolling Mean & Standard Deviation')\n",
    "    plt.show(block=False)\n",
    "    print('Window size = {} \\n'.format(windowsize))\n",
    "    \n",
    "    #Perform Dickey-Fuller test:\n",
    "    print('Results of Dickey-Fuller Test:')\n",
    "    dftest = adfuller(timeseries)\n",
    "    dfoutput = pd.Series(dftest[0:2], index=['Test Statistic','p-value'])\n",
    "    print(dfoutput)"
   ]
  },
  {
   "cell_type": "code",
   "execution_count": null,
   "metadata": {
    "collapsed": true
   },
   "outputs": [],
   "source": [
    "ts = select_calls_df[select_calls_df['urgency']==' Ambulance met hoge spoed']['urgency']\n",
    "ts_day = ts.resample('D').count()"
   ]
  },
  {
   "cell_type": "code",
   "execution_count": null,
   "metadata": {
    "collapsed": true
   },
   "outputs": [],
   "source": [
    "ts_2h = ts.resample('2H').count()"
   ]
  },
  {
   "cell_type": "code",
   "execution_count": null,
   "metadata": {
    "collapsed": true
   },
   "outputs": [],
   "source": [
    "test_stationarity(ts_2h, 12)"
   ]
  },
  {
   "cell_type": "code",
   "execution_count": null,
   "metadata": {
    "collapsed": true,
    "scrolled": true
   },
   "outputs": [],
   "source": [
    "test_stationarity(ts_day, 30)"
   ]
  },
  {
   "cell_type": "code",
   "execution_count": null,
   "metadata": {
    "collapsed": true,
    "scrolled": true
   },
   "outputs": [],
   "source": [
    "test_stationarity(ts_day, 365)"
   ]
  },
  {
   "cell_type": "markdown",
   "metadata": {},
   "source": [
    "Dickey-Fuller test is significant, therefore the timeseries can be considered stationary over time and can be used for timeseries modeling."
   ]
  },
  {
   "cell_type": "code",
   "execution_count": null,
   "metadata": {
    "collapsed": true
   },
   "outputs": [],
   "source": [
    "from statsmodels.tsa.seasonal import seasonal_decompose\n",
    "decomposition = seasonal_decompose(ts_2h)\n",
    "\n",
    "trend = decomposition.trend\n",
    "seasonal = decomposition.seasonal\n",
    "residual = decomposition.resid\n",
    "\n",
    "plt.figure(figsize=(15,5))\n",
    "\n",
    "plt.subplot(411)\n",
    "plt.plot(ts_day, label='Original')\n",
    "plt.xlim(['Aug-2014','Dec-2014'])\n",
    "plt.legend(loc='best')\n",
    "plt.subplot(412)\n",
    "plt.plot(trend, label='Trend')\n",
    "plt.xlim(['Aug-2014','Dec-2014'])\n",
    "plt.legend(loc='best')\n",
    "plt.subplot(413)\n",
    "plt.plot(seasonal,label='Seasonality')\n",
    "plt.xlim(['Aug-2014','Dec-2014'])\n",
    "plt.legend(loc='best')\n",
    "plt.subplot(414)\n",
    "plt.plot(residual, label='Residuals')\n",
    "plt.xlim(['Aug-2014','Dec-2014'])\n",
    "plt.legend(loc='best')\n",
    "plt.tight_layout()\n",
    "\n"
   ]
  },
  {
   "cell_type": "markdown",
   "metadata": {},
   "source": [
    "Seasonal decomposition also doesn't show a clear trend."
   ]
  },
  {
   "cell_type": "code",
   "execution_count": null,
   "metadata": {
    "collapsed": true
   },
   "outputs": [],
   "source": [
    "ts_day_decompose = residual\n",
    "ts_day_decompose.dropna(inplace=True)\n",
    "test_stationarity(ts_day_decompose, 30)"
   ]
  },
  {
   "cell_type": "code",
   "execution_count": null,
   "metadata": {
    "collapsed": true
   },
   "outputs": [],
   "source": [
    "# Plot ACF and PACF\n",
    "import statsmodels.graphics.tsaplots as tsaplt\n",
    "\n",
    "fig = plt.figure(figsize=(8,6))\n",
    "ax1 = fig.add_subplot(211)\n",
    "fig = tsaplt.plot_acf(ts_day, lags=7, ax=ax1)\n",
    "ax2 = fig.add_subplot(212)\n",
    "fig = tsaplt.plot_pacf(ts_day, lags=7, ax=ax2)"
   ]
  },
  {
   "cell_type": "code",
   "execution_count": null,
   "metadata": {
    "collapsed": true
   },
   "outputs": [],
   "source": [
    "# TS Model\n",
    "\n",
    "from statsmodels.tsa.arima_model import ARIMA\n",
    "\n",
    "# ARIMA requires float data instead of integer\n",
    "ts_day = ts_day.astype(float)\n",
    "\n",
    "model = ARIMA(ts_day, order=(2, 0, 1))  # order from acf and pacf plots (p,d,q), but 2,0,1 has best fit\n",
    "results_ARIMA = model.fit(disp=-1)  \n",
    "\n",
    "plt.figure(figsize=(15,4))\n",
    "plt.plot(ts_day, color='steelblue')\n",
    "plt.plot(results_ARIMA.fittedvalues, color='firebrick')\n",
    "plt.title('Original TS: RSS: %.3f'% sum((results_ARIMA.fittedvalues-ts_day)**2))"
   ]
  },
  {
   "cell_type": "code",
   "execution_count": null,
   "metadata": {
    "collapsed": true
   },
   "outputs": [],
   "source": [
    "plt.figure(figsize=(15,4))\n",
    "plt.plot(ts_day['2016'], color='steelblue')\n",
    "plt.plot(results_ARIMA.fittedvalues['2016'], color='firebrick')\n",
    "plt.title('Residuals of decomposition: RSS: %.4f'% sum((results_ARIMA.fittedvalues-ts_day)**2))"
   ]
  },
  {
   "cell_type": "markdown",
   "metadata": {},
   "source": [
    "### Counts per day of the week"
   ]
  },
  {
   "cell_type": "markdown",
   "metadata": {},
   "source": [
    "Looking at the number of calls per day shows a peak at kings day (2017 & 2016) and new years eve in 2017. However, the data is missing for new years day of 2016."
   ]
  },
  {
   "cell_type": "code",
   "execution_count": null,
   "metadata": {
    "collapsed": true
   },
   "outputs": [],
   "source": [
    "# mean count per day of week\n",
    "labels=['Monday','Tuesday','Wednesday','Thursday','Friday','Saturday','Sunday']\n",
    "date_list = pd.date_range(select_calls_df.ix[len(select_calls_df)-1,'date'], select_calls_df.ix[0,'date'])\n",
    "\n",
    "counts = select_calls_df['urgency'].groupby(select_calls_df.index.dayofweek).count()/date_list.dayofweek.value_counts()\n",
    "counts.plot(kind='bar', color='#7bccc4')\n",
    "plt.xticks(np.arange(0,7,1), labels, rotation='vertical')\n",
    "plt.xlabel('Day of the week')\n",
    "plt.ylabel('Average call count')\n",
    "plt.title('Call frequency per day of the week')"
   ]
  },
  {
   "cell_type": "code",
   "execution_count": null,
   "metadata": {
    "collapsed": true
   },
   "outputs": [],
   "source": [
    "labels=['Monday','Tuesday','Wednesday','Thursday','Friday','Saturday','Sunday']\n",
    "\n",
    "fig = plt.figure(figsize=(8,10))\n",
    "\n",
    "count=1\n",
    "for urge in urgency_types:\n",
    "    df = select_calls_df[select_calls_df['urgency']==urge]['urgency']\n",
    "    date_list = pd.date_range(df.index[len(df)-1].date(), df.index[0].date())\n",
    "    count_days = date_list.dayofweek.value_counts().sort_index()\n",
    "    count_calls = df.groupby(df.index.dayofweek).count()\n",
    "    average_count = count_calls/count_days\n",
    "    ax = fig.add_subplot(3, 2, count)\n",
    "    average_count.plot(kind='bar', ax=ax, color='#7bccc4', label=urge)\n",
    "    ax.set_xticklabels(labels)\n",
    "    ax.set_ylabel('Average number of calls per day')\n",
    "    ax.set_xlabel('')\n",
    "    ax.set_title(urge)\n",
    "    count+=1\n",
    "\n",
    "plt.tight_layout()\n",
    "plt.savefig('NumberOfCalls_DayOfWeek.png', dpi=300)"
   ]
  },
  {
   "cell_type": "markdown",
   "metadata": {},
   "source": [
    "Most ambulance calls take place on Friday"
   ]
  },
  {
   "cell_type": "markdown",
   "metadata": {},
   "source": [
    "## Regressors"
   ]
  },
  {
   "cell_type": "markdown",
   "metadata": {},
   "source": [
    "#### add features to df\n",
    "- kingsday / new years day \n",
    "- day of the week \n",
    "- day\n",
    "- month\n",
    "- hour\n"
   ]
  },
  {
   "cell_type": "code",
   "execution_count": null,
   "metadata": {
    "collapsed": true
   },
   "outputs": [],
   "source": [
    "A1_df = select_calls_df[select_calls_df['urgency']==' Ambulance met hoge spoed']\n",
    "A1_perday_df = A1_df['urgency'].resample('D').count()\n",
    "A1_perday_df = A1_perday_df.to_frame()"
   ]
  },
  {
   "cell_type": "code",
   "execution_count": null,
   "metadata": {
    "collapsed": true
   },
   "outputs": [],
   "source": [
    "A1_perday_df['month'] = A1_perday_df.index.month\n",
    "A1_perday_df['day'] = A1_perday_df.index.day\n",
    "A1_perday_df['dayofweek'] = A1_perday_df.index.dayofweek\n",
    "\n",
    "kingsdays = [datetime(2013,4,30), datetime(2014,4,26), datetime(2015,4,27), datetime(2016,4,27), datetime(2017,4,27)]\n",
    "A1_perday_df['kingsday'] = [1 if x in kingsdays else 0 for x in A1_perday_df.index]\n",
    "\n",
    "newyearsdays = [datetime(2014,1,1), datetime(2015,1,1), datetime(2016,1,1), datetime(2017,1,1)]\n",
    "A1_perday_df['newyears'] = [1 if x in newyearsdays else 0 for x in A1_perday_df.index]\n",
    "\n",
    "A1_perday_df.rename(columns={'urgency':'daily_count'}, inplace=True)\n",
    "\n",
    "A1_perday_df.head()"
   ]
  },
  {
   "cell_type": "code",
   "execution_count": null,
   "metadata": {
    "collapsed": true
   },
   "outputs": [],
   "source": [
    "from sklearn.ensemble import GradientBoostingRegressor"
   ]
  },
  {
   "cell_type": "code",
   "execution_count": null,
   "metadata": {
    "collapsed": true
   },
   "outputs": [],
   "source": [
    "def plot_regressor(regressor, yvalue):\n",
    "    fig,ax = plt.subplots(nrows=2, ncols=1, figsize=(18,10))\n",
    "    ax[0].plot(testDF[yvalue], color='k', label='actual')\n",
    "    ax[0].plot(testDF['prediction'], color='r', label='prediction (R$^2$ = {0:.3f})'.format(regressor.score(testX, testY)))\n",
    "    ax[0].legend(loc='best')\n",
    "    \n",
    "    ax[1].plot(testDF.loc['2017':, yvalue], color='k', label='actual')\n",
    "    ax[1].plot(testDF.loc['2017':,'prediction'], color='r')\n",
    "    \n",
    "    plt.show()"
   ]
  },
  {
   "cell_type": "code",
   "execution_count": null,
   "metadata": {
    "collapsed": true
   },
   "outputs": [],
   "source": [
    "def plot_regressor1(regressor, yvalue):\n",
    "    plt.figure(figsize=(18,5))\n",
    "    plt.plot(testDF[yvalue], color='k', label='actual')\n",
    "    plt.plot(testDF['prediction'], color='r', label='prediction (R$^2$ = {0:.3f})'.format(regressor.score(testX, testY)))\n",
    "    plt.legend(loc='best')\n",
    "    \n",
    "    plt.show()"
   ]
  },
  {
   "cell_type": "code",
   "execution_count": null,
   "metadata": {
    "collapsed": true
   },
   "outputs": [],
   "source": [
    "trainDF = A1_perday_df[:'2016']\n",
    "testDF = A1_perday_df['2017':]\n",
    "\n",
    "trainX = trainDF.drop('daily_count', axis=1)\n",
    "trainY = trainDF['daily_count']\n",
    "\n",
    "testX = testDF.drop('daily_count', axis=1)\n",
    "testY = testDF['daily_count']"
   ]
  },
  {
   "cell_type": "code",
   "execution_count": null,
   "metadata": {
    "collapsed": true
   },
   "outputs": [],
   "source": [
    "gbr = GradientBoostingRegressor(random_state=5)\n",
    "gbr.fit(trainX, trainY)\n",
    "testDF['prediction'] = gbr.predict(testX)\n",
    "\n",
    "plot_regressor1(gbr, 'daily_count')"
   ]
  },
  {
   "cell_type": "code",
   "execution_count": null,
   "metadata": {
    "collapsed": true
   },
   "outputs": [],
   "source": [
    "from sklearn.ensemble import ExtraTreesRegressor\n",
    "\n",
    "et = ExtraTreesRegressor()\n",
    "et.fit(trainX, trainY)\n",
    "testDF['prediction'] = et.predict(testX)\n",
    "\n",
    "plot_regressor1(et, 'daily_count')"
   ]
  },
  {
   "cell_type": "markdown",
   "metadata": {
    "collapsed": true
   },
   "source": [
    "### To do:\n",
    "- gridsearch\n",
    "- regressor on residual of TS\n",
    "- pipeline"
   ]
  },
  {
   "cell_type": "code",
   "execution_count": null,
   "metadata": {
    "collapsed": true
   },
   "outputs": [],
   "source": []
  },
  {
   "cell_type": "code",
   "execution_count": null,
   "metadata": {
    "collapsed": true
   },
   "outputs": [],
   "source": []
  },
  {
   "cell_type": "code",
   "execution_count": null,
   "metadata": {
    "collapsed": true
   },
   "outputs": [],
   "source": []
  },
  {
   "cell_type": "code",
   "execution_count": null,
   "metadata": {
    "collapsed": true
   },
   "outputs": [],
   "source": []
  },
  {
   "cell_type": "code",
   "execution_count": null,
   "metadata": {
    "collapsed": true
   },
   "outputs": [],
   "source": [
    "calls2016 = select_calls_df['2016']\n",
    "test = calls2016['address'].iloc[1:20]\n",
    "test "
   ]
  },
  {
   "cell_type": "code",
   "execution_count": null,
   "metadata": {
    "collapsed": true
   },
   "outputs": [],
   "source": [
    "# use a session to make sure geocoder stays connected and does not give empty results\n",
    "\n",
    "with requests.Session() as session:\n",
    "    latlng_test = test.map(lambda x: geocoder.google(x, session=session).latlng)\n",
    "latlng_test"
   ]
  },
  {
   "cell_type": "code",
   "execution_count": null,
   "metadata": {
    "collapsed": true
   },
   "outputs": [],
   "source": [
    "latitudes = latlng_test.map(lambda x: x[0])\n",
    "longitudes = latlng_test.map(lambda x: x[1])"
   ]
  },
  {
   "cell_type": "code",
   "execution_count": null,
   "metadata": {
    "collapsed": true
   },
   "outputs": [],
   "source": [
    "gmap = gmplot.GoogleMapPlotter(52.3469157,4.8639372,11)\n",
    "gmap.scatter(latitudes, longitudes, 'black', size=50, marker=False)\n",
    "gmap.draw(\"test_calls_map.html\")"
   ]
  },
  {
   "cell_type": "code",
   "execution_count": null,
   "metadata": {
    "collapsed": true
   },
   "outputs": [],
   "source": [
    "from IPython.display import IFrame\n",
    "IFrame('test_calls_map.html', width=600, height=600)"
   ]
  },
  {
   "cell_type": "code",
   "execution_count": null,
   "metadata": {
    "collapsed": true
   },
   "outputs": [],
   "source": []
  },
  {
   "cell_type": "code",
   "execution_count": null,
   "metadata": {
    "collapsed": true
   },
   "outputs": [],
   "source": [
    "# ambulance stands\n",
    "\n",
    "stands_df = pd.read_csv('Address_ambulancestands.csv')\n",
    "stands_df['latlng'] = stands_df['address1'].map(lambda x: geocoder.google(x + ', Amsterdam').latlng)\n",
    "stands_df"
   ]
  },
  {
   "cell_type": "code",
   "execution_count": null,
   "metadata": {
    "collapsed": true
   },
   "outputs": [],
   "source": [
    "latitudes = stands_df['latlng'].map(lambda x: x[0])\n",
    "longitudes = stands_df['latlng'].map(lambda x: x[1])"
   ]
  },
  {
   "cell_type": "code",
   "execution_count": null,
   "metadata": {
    "collapsed": true
   },
   "outputs": [],
   "source": []
  },
  {
   "cell_type": "code",
   "execution_count": null,
   "metadata": {
    "collapsed": true
   },
   "outputs": [],
   "source": []
  },
  {
   "cell_type": "code",
   "execution_count": null,
   "metadata": {
    "collapsed": true
   },
   "outputs": [],
   "source": []
  },
  {
   "cell_type": "code",
   "execution_count": null,
   "metadata": {
    "collapsed": true
   },
   "outputs": [],
   "source": []
  },
  {
   "cell_type": "code",
   "execution_count": null,
   "metadata": {
    "collapsed": true
   },
   "outputs": [],
   "source": [
    "gmap = gmplot.GoogleMapPlotter(52.3469157,4.8639372,11)\n",
    "gmap.scatter(latitudes, longitudes, 'black', size=300, marker=False)\n",
    "gmap.draw(\"Amsterdam_stands_map.html\")"
   ]
  },
  {
   "cell_type": "code",
   "execution_count": null,
   "metadata": {
    "collapsed": true
   },
   "outputs": [],
   "source": [
    "from IPython.display import IFrame\n",
    "IFrame('Amsterdam_stands_map.html', width=600, height=600)"
   ]
  },
  {
   "cell_type": "code",
   "execution_count": null,
   "metadata": {
    "collapsed": true
   },
   "outputs": [],
   "source": []
  },
  {
   "cell_type": "code",
   "execution_count": null,
   "metadata": {
    "collapsed": true
   },
   "outputs": [],
   "source": []
  },
  {
   "cell_type": "code",
   "execution_count": null,
   "metadata": {
    "collapsed": true
   },
   "outputs": [],
   "source": []
  },
  {
   "cell_type": "code",
   "execution_count": null,
   "metadata": {
    "collapsed": true
   },
   "outputs": [],
   "source": []
  },
  {
   "cell_type": "code",
   "execution_count": null,
   "metadata": {
    "collapsed": true
   },
   "outputs": [],
   "source": []
  },
  {
   "cell_type": "code",
   "execution_count": null,
   "metadata": {
    "collapsed": true
   },
   "outputs": [],
   "source": [
    "import pickle\n",
    "pickle.dump(select_calls_df, open('select_calls_df.p','wb'))\n",
    "select_calls_df = pickle.load(open('select_calls_df.p', 'rb'))"
   ]
  },
  {
   "cell_type": "code",
   "execution_count": null,
   "metadata": {
    "collapsed": true
   },
   "outputs": [],
   "source": [
    "# TODO: calculate SEM\n",
    "\n",
    "for index, count in count_calls_perday.iteritems():\n",
    "    day = index.dayofweek\n",
    "    sqrd_diff = (count - average_count[day])**2\n",
    "\n",
    "sum((x - mean)**2)/(N-1)\n",
    "np.sqrt()"
   ]
  }
 ],
 "metadata": {
  "anaconda-cloud": {},
  "kernelspec": {
   "display_name": "Python 3",
   "language": "python",
   "name": "python3"
  },
  "language_info": {
   "codemirror_mode": {
    "name": "ipython",
    "version": 3
   },
   "file_extension": ".py",
   "mimetype": "text/x-python",
   "name": "python",
   "nbconvert_exporter": "python",
   "pygments_lexer": "ipython3",
   "version": "3.6.1"
  }
 },
 "nbformat": 4,
 "nbformat_minor": 2
}
