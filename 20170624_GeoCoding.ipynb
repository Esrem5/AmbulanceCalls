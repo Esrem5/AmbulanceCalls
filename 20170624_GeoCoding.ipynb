{
 "cells": [
  {
   "cell_type": "code",
   "execution_count": 1,
   "metadata": {
    "collapsed": true
   },
   "outputs": [],
   "source": [
    "import pandas as pd\n",
    "import numpy as np\n",
    "\n",
    "#pd.set_option('display.max_colwidth', -1)\n",
    "pd.set_option('display.max_columns', None)\n",
    "pd.set_option('display.max_rows', None)\n",
    "\n",
    "import requests\n",
    "import geocoder\n",
    "import pickle\n",
    "import time"
   ]
  },
  {
   "cell_type": "markdown",
   "metadata": {},
   "source": [
    "### Load ambulance data and prepare for geooding"
   ]
  },
  {
   "cell_type": "code",
   "execution_count": 7,
   "metadata": {},
   "outputs": [
    {
     "data": {
      "text/html": [
       "<div>\n",
       "<style>\n",
       "    .dataframe thead tr:only-child th {\n",
       "        text-align: right;\n",
       "    }\n",
       "\n",
       "    .dataframe thead th {\n",
       "        text-align: left;\n",
       "    }\n",
       "\n",
       "    .dataframe tbody tr th {\n",
       "        vertical-align: top;\n",
       "    }\n",
       "</style>\n",
       "<table border=\"1\" class=\"dataframe\">\n",
       "  <thead>\n",
       "    <tr style=\"text-align: right;\">\n",
       "      <th></th>\n",
       "      <th>date</th>\n",
       "      <th>time</th>\n",
       "      <th>address</th>\n",
       "      <th>descr</th>\n",
       "      <th>urgency</th>\n",
       "    </tr>\n",
       "    <tr>\n",
       "      <th>date_time</th>\n",
       "      <th></th>\n",
       "      <th></th>\n",
       "      <th></th>\n",
       "      <th></th>\n",
       "      <th></th>\n",
       "    </tr>\n",
       "  </thead>\n",
       "  <tbody>\n",
       "    <tr>\n",
       "      <th>2017-05-15 18:50:25</th>\n",
       "      <td>2017-05-15 00:00:00</td>\n",
       "      <td>1900-01-01 18:50:25</td>\n",
       "      <td>Amstelveen, Frans Halslaan 10-18, 1181TL</td>\n",
       "      <td>Ambulance besteld vervoer B1: 13178 Rit 56159...</td>\n",
       "      <td>Ambulance besteld vervoer B1</td>\n",
       "    </tr>\n",
       "    <tr>\n",
       "      <th>2017-05-15 18:49:48</th>\n",
       "      <td>2017-05-15 00:00:00</td>\n",
       "      <td>1900-01-01 18:49:48</td>\n",
       "      <td>Amsterdam, Van Hogendorpplein 20-28, 1051AX</td>\n",
       "      <td>Ambulance met hoge spoed: 13102 Rit 56158 Ams...</td>\n",
       "      <td>Ambulance met hoge spoed</td>\n",
       "    </tr>\n",
       "    <tr>\n",
       "      <th>2017-05-15 18:40:16</th>\n",
       "      <td>2017-05-15 00:00:00</td>\n",
       "      <td>1900-01-01 18:40:16</td>\n",
       "      <td>Amsterdam, De Boelelaan , 1081HV</td>\n",
       "      <td>Ambulance besteld vervoer B1: 13405 Rit 56157...</td>\n",
       "      <td>Ambulance besteld vervoer B1</td>\n",
       "    </tr>\n",
       "    <tr>\n",
       "      <th>2017-05-15 18:37:55</th>\n",
       "      <td>2017-05-15 00:00:00</td>\n",
       "      <td>1900-01-01 18:37:55</td>\n",
       "      <td>Amsterdam, Marnixstraat 1-9, 1017PJ</td>\n",
       "      <td>Ambulance met hoge spoed: 13116 Rit 56156 Ams...</td>\n",
       "      <td>Ambulance met hoge spoed</td>\n",
       "    </tr>\n",
       "    <tr>\n",
       "      <th>2017-05-15 18:31:50</th>\n",
       "      <td>2017-05-15 00:00:00</td>\n",
       "      <td>1900-01-01 18:31:50</td>\n",
       "      <td>Amsterdam, Walmolen 100-108, 1035BP</td>\n",
       "      <td>Ambulance met hoge spoed: 13159 Rit 56155 Ams...</td>\n",
       "      <td>Ambulance met hoge spoed</td>\n",
       "    </tr>\n",
       "  </tbody>\n",
       "</table>\n",
       "</div>"
      ],
      "text/plain": [
       "                                    date                 time  \\\n",
       "date_time                                                       \n",
       "2017-05-15 18:50:25  2017-05-15 00:00:00  1900-01-01 18:50:25   \n",
       "2017-05-15 18:49:48  2017-05-15 00:00:00  1900-01-01 18:49:48   \n",
       "2017-05-15 18:40:16  2017-05-15 00:00:00  1900-01-01 18:40:16   \n",
       "2017-05-15 18:37:55  2017-05-15 00:00:00  1900-01-01 18:37:55   \n",
       "2017-05-15 18:31:50  2017-05-15 00:00:00  1900-01-01 18:31:50   \n",
       "\n",
       "                                                         address  \\\n",
       "date_time                                                          \n",
       "2017-05-15 18:50:25     Amstelveen, Frans Halslaan 10-18, 1181TL   \n",
       "2017-05-15 18:49:48  Amsterdam, Van Hogendorpplein 20-28, 1051AX   \n",
       "2017-05-15 18:40:16             Amsterdam, De Boelelaan , 1081HV   \n",
       "2017-05-15 18:37:55          Amsterdam, Marnixstraat 1-9, 1017PJ   \n",
       "2017-05-15 18:31:50          Amsterdam, Walmolen 100-108, 1035BP   \n",
       "\n",
       "                                                                 descr  \\\n",
       "date_time                                                                \n",
       "2017-05-15 18:50:25   Ambulance besteld vervoer B1: 13178 Rit 56159...   \n",
       "2017-05-15 18:49:48   Ambulance met hoge spoed: 13102 Rit 56158 Ams...   \n",
       "2017-05-15 18:40:16   Ambulance besteld vervoer B1: 13405 Rit 56157...   \n",
       "2017-05-15 18:37:55   Ambulance met hoge spoed: 13116 Rit 56156 Ams...   \n",
       "2017-05-15 18:31:50   Ambulance met hoge spoed: 13159 Rit 56155 Ams...   \n",
       "\n",
       "                                           urgency  \n",
       "date_time                                           \n",
       "2017-05-15 18:50:25   Ambulance besteld vervoer B1  \n",
       "2017-05-15 18:49:48       Ambulance met hoge spoed  \n",
       "2017-05-15 18:40:16   Ambulance besteld vervoer B1  \n",
       "2017-05-15 18:37:55       Ambulance met hoge spoed  \n",
       "2017-05-15 18:31:50       Ambulance met hoge spoed  "
      ]
     },
     "execution_count": 7,
     "metadata": {},
     "output_type": "execute_result"
    }
   ],
   "source": [
    "# load cleaned df\n",
    "ambulance_df = pd.read_csv('.././Data/20170616_ambulancecalls_2013-2017_cleaned.csv', index_col='date_time')"
   ]
  },
  {
   "cell_type": "code",
   "execution_count": 8,
   "metadata": {
    "collapsed": true
   },
   "outputs": [],
   "source": [
    "# split into df per urgency category\n",
    "urgency_types = ambulance_df['urgency'].unique()\n",
    "dict_of_urgencydfs = {urgency: data for urgency, data in ambulance_df.groupby('urgency')}"
   ]
  },
  {
   "cell_type": "code",
   "execution_count": 10,
   "metadata": {},
   "outputs": [
    {
     "data": {
      "text/html": [
       "<div>\n",
       "<style>\n",
       "    .dataframe thead tr:only-child th {\n",
       "        text-align: right;\n",
       "    }\n",
       "\n",
       "    .dataframe thead th {\n",
       "        text-align: left;\n",
       "    }\n",
       "\n",
       "    .dataframe tbody tr th {\n",
       "        vertical-align: top;\n",
       "    }\n",
       "</style>\n",
       "<table border=\"1\" class=\"dataframe\">\n",
       "  <thead>\n",
       "    <tr style=\"text-align: right;\">\n",
       "      <th></th>\n",
       "      <th>date</th>\n",
       "      <th>time</th>\n",
       "      <th>address</th>\n",
       "      <th>descr</th>\n",
       "      <th>urgency</th>\n",
       "    </tr>\n",
       "    <tr>\n",
       "      <th>date_time</th>\n",
       "      <th></th>\n",
       "      <th></th>\n",
       "      <th></th>\n",
       "      <th></th>\n",
       "      <th></th>\n",
       "    </tr>\n",
       "  </thead>\n",
       "  <tbody>\n",
       "    <tr>\n",
       "      <th>2017-05-15 18:49:48</th>\n",
       "      <td>2017-05-15 00:00:00</td>\n",
       "      <td>1900-01-01 18:49:48</td>\n",
       "      <td>Amsterdam, Van Hogendorpplein 20-28, 1051AX</td>\n",
       "      <td>Ambulance met hoge spoed: 13102 Rit 56158 Ams...</td>\n",
       "      <td>Ambulance met hoge spoed</td>\n",
       "    </tr>\n",
       "    <tr>\n",
       "      <th>2017-05-15 18:37:55</th>\n",
       "      <td>2017-05-15 00:00:00</td>\n",
       "      <td>1900-01-01 18:37:55</td>\n",
       "      <td>Amsterdam, Marnixstraat 1-9, 1017PJ</td>\n",
       "      <td>Ambulance met hoge spoed: 13116 Rit 56156 Ams...</td>\n",
       "      <td>Ambulance met hoge spoed</td>\n",
       "    </tr>\n",
       "    <tr>\n",
       "      <th>2017-05-15 18:31:50</th>\n",
       "      <td>2017-05-15 00:00:00</td>\n",
       "      <td>1900-01-01 18:31:50</td>\n",
       "      <td>Amsterdam, Walmolen 100-108, 1035BP</td>\n",
       "      <td>Ambulance met hoge spoed: 13159 Rit 56155 Ams...</td>\n",
       "      <td>Ambulance met hoge spoed</td>\n",
       "    </tr>\n",
       "    <tr>\n",
       "      <th>2017-05-15 18:27:52</th>\n",
       "      <td>2017-05-15 00:00:00</td>\n",
       "      <td>1900-01-01 18:27:52</td>\n",
       "      <td>Diemen, Muiderstraatweg 20-28, 1111PS</td>\n",
       "      <td>Ambulance met hoge spoed: 13110 Rit 56154 Diemen</td>\n",
       "      <td>Ambulance met hoge spoed</td>\n",
       "    </tr>\n",
       "    <tr>\n",
       "      <th>2017-05-15 18:21:49</th>\n",
       "      <td>2017-05-15 00:00:00</td>\n",
       "      <td>1900-01-01 18:21:49</td>\n",
       "      <td>Amsterdam, Ruijterkade</td>\n",
       "      <td>Ambulance met hoge spoed: 13104 Rit 56150 De ...</td>\n",
       "      <td>Ambulance met hoge spoed</td>\n",
       "    </tr>\n",
       "  </tbody>\n",
       "</table>\n",
       "</div>"
      ],
      "text/plain": [
       "                                    date                 time  \\\n",
       "date_time                                                       \n",
       "2017-05-15 18:49:48  2017-05-15 00:00:00  1900-01-01 18:49:48   \n",
       "2017-05-15 18:37:55  2017-05-15 00:00:00  1900-01-01 18:37:55   \n",
       "2017-05-15 18:31:50  2017-05-15 00:00:00  1900-01-01 18:31:50   \n",
       "2017-05-15 18:27:52  2017-05-15 00:00:00  1900-01-01 18:27:52   \n",
       "2017-05-15 18:21:49  2017-05-15 00:00:00  1900-01-01 18:21:49   \n",
       "\n",
       "                                                         address  \\\n",
       "date_time                                                          \n",
       "2017-05-15 18:49:48  Amsterdam, Van Hogendorpplein 20-28, 1051AX   \n",
       "2017-05-15 18:37:55          Amsterdam, Marnixstraat 1-9, 1017PJ   \n",
       "2017-05-15 18:31:50          Amsterdam, Walmolen 100-108, 1035BP   \n",
       "2017-05-15 18:27:52        Diemen, Muiderstraatweg 20-28, 1111PS   \n",
       "2017-05-15 18:21:49                       Amsterdam, Ruijterkade   \n",
       "\n",
       "                                                                 descr  \\\n",
       "date_time                                                                \n",
       "2017-05-15 18:49:48   Ambulance met hoge spoed: 13102 Rit 56158 Ams...   \n",
       "2017-05-15 18:37:55   Ambulance met hoge spoed: 13116 Rit 56156 Ams...   \n",
       "2017-05-15 18:31:50   Ambulance met hoge spoed: 13159 Rit 56155 Ams...   \n",
       "2017-05-15 18:27:52   Ambulance met hoge spoed: 13110 Rit 56154 Diemen   \n",
       "2017-05-15 18:21:49   Ambulance met hoge spoed: 13104 Rit 56150 De ...   \n",
       "\n",
       "                                       urgency  \n",
       "date_time                                       \n",
       "2017-05-15 18:49:48   Ambulance met hoge spoed  \n",
       "2017-05-15 18:37:55   Ambulance met hoge spoed  \n",
       "2017-05-15 18:31:50   Ambulance met hoge spoed  \n",
       "2017-05-15 18:27:52   Ambulance met hoge spoed  \n",
       "2017-05-15 18:21:49   Ambulance met hoge spoed  "
      ]
     },
     "execution_count": 10,
     "metadata": {},
     "output_type": "execute_result"
    }
   ],
   "source": [
    "# Urgent calls first\n",
    "A1_df = dict_of_urgencydfs[' Ambulance met hoge spoed']"
   ]
  },
  {
   "cell_type": "code",
   "execution_count": 11,
   "metadata": {
    "collapsed": true
   },
   "outputs": [],
   "source": [
    "# split A1 data into sets of 1000\n",
    "bins_begin = range(0,len(A1_df),1000)\n",
    "bins_end = range(1000,len(A1_df)+1000,1000)\n",
    "\n",
    "dict_of_A1dfs = {}\n",
    "bin_number = 0\n",
    "for begin, end in zip(bins_begin, bins_end):\n",
    "    df_bin = A1_df.iloc[begin:end, :]\n",
    "    dict_of_A1dfs[bin_number] = df_bin\n",
    "    bin_number += 1\n",
    "    \n",
    "# save the dict\n",
    "pickle.dump(dict_of_A1dfs, open('.././Data/A1dfs.p','wb'))"
   ]
  },
  {
   "cell_type": "markdown",
   "metadata": {},
   "source": [
    "### Geocoding"
   ]
  },
  {
   "cell_type": "code",
   "execution_count": 4,
   "metadata": {
    "collapsed": true
   },
   "outputs": [],
   "source": [
    "def geocode_df(df_dict, start_df, number_of_dfs, provider_name, api_key=None):\n",
    "    \"\"\"Geocoding per df in a dict of dfs.\n",
    "    Returns .csv files per geocoded df &\n",
    "    Returns a pickle with last number of last df that was geocoded.\"\"\"\n",
    "    range_of_dfs = range(start_df, start_df+number_of_dfs, 1)\n",
    "    method = getattr(geocoder, provider_name)\n",
    "    for i in range_of_dfs:\n",
    "        df = df_dict[i]\n",
    "        lat = []\n",
    "        lng = []\n",
    "        with requests.Session() as session:\n",
    "            for address in df['address']:\n",
    "                try:\n",
    "                    geocode = method(address, session=session, key=api_key).json\n",
    "                except:\n",
    "                    print(\"Can't geocode address: {}\".format(address))\n",
    "                    lat.append(np.nan)\n",
    "                    lng.append(np.nan)\n",
    "                else:\n",
    "                    try:\n",
    "                        lat.append(geocode['lat'])\n",
    "                        lng.append(geocode['lng'])\n",
    "                    except KeyError:\n",
    "                        print(\"No lat or lng key: {}\".format(address))\n",
    "                        lat.append(np.nan)\n",
    "                        lng.append(np.nan)\n",
    "\n",
    "        df['lat'] = lat\n",
    "        df['lng'] = lng\n",
    "        print(\"Df {} is geocoded\".format(i))\n",
    "        print(\"Number of addresses not geocoded: {}\".format(df['lat'].isnull().sum()))\n",
    "        \n",
    "        # save df\n",
    "        df_name = './GeoResults/GeocodedDF_' + str(i) + '.csv'\n",
    "        df.to_csv(df_name)\n",
    "        \n",
    "        # save which dfs are done\n",
    "        wherearewe = i\n",
    "        pickle.dump(wherearewe, open('wherearewe.p','wb'))\n",
    "        "
   ]
  },
  {
   "cell_type": "code",
   "execution_count": 12,
   "metadata": {},
   "outputs": [
    {
     "data": {
      "text/plain": [
       "282"
      ]
     },
     "execution_count": 12,
     "metadata": {},
     "output_type": "execute_result"
    }
   ],
   "source": [
    "len(dict_of_A1dfs)"
   ]
  },
  {
   "cell_type": "code",
   "execution_count": 6,
   "metadata": {},
   "outputs": [
    {
     "name": "stdout",
     "output_type": "stream",
     "text": [
      "Df 200 is geocoded\n",
      "Number of addresses not geocoded: 0\n",
      "5.394613381226858\n"
     ]
    }
   ],
   "source": [
    "# geocoding using bing, 125.000 a year\n",
    "start = time.time()\n",
    "geocode_df(A1dfs_dict, 1, 282, 'bing', api_key='AhLOoucAst5-HHqGVjKjH26-igr7eZf3t7tIqB8hVjmJfcAoFNKRcMY1SuujDpZn')\n",
    "end = time.time()\n",
    "print((end-start)/60)"
   ]
  },
  {
   "cell_type": "code",
   "execution_count": null,
   "metadata": {
    "collapsed": true
   },
   "outputs": [],
   "source": []
  }
 ],
 "metadata": {
  "kernelspec": {
   "display_name": "Python 3",
   "language": "python",
   "name": "python3"
  },
  "language_info": {
   "codemirror_mode": {
    "name": "ipython",
    "version": 3
   },
   "file_extension": ".py",
   "mimetype": "text/x-python",
   "name": "python",
   "nbconvert_exporter": "python",
   "pygments_lexer": "ipython3",
   "version": "3.6.1"
  }
 },
 "nbformat": 4,
 "nbformat_minor": 2
}
